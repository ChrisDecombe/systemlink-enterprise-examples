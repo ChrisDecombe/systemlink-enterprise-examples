{
 "cells": [
  {
   "cell_type": "code",
   "execution_count": null,
   "id": "7399416c-713c-4667-b339-04bde9831f3d",
   "metadata": {},
   "outputs": [],
   "source": [
    "import os\n",
    "import pandas, numpy\n",
    "import random\n",
    "import string"
   ]
  },
  {
   "cell_type": "code",
   "execution_count": null,
   "id": "6dea6dbe-7679-4a63-a785-61f7dd1aaa61",
   "metadata": {},
   "outputs": [],
   "source": [
    "# Generate rows of random values for the table in a pandas dataframe\n",
    "def get_rand_letter(number):\n",
    "    return ''.join(random.choice(string.ascii_letters) for i in range(number))\n",
    "\n",
    "def rand_bools(number):\n",
    "    return [random.choice([True, False]) for i in range(number)]\n",
    "\n",
    "rows = 500\n",
    "data = {'timestamp': numpy.array(pandas.date_range(start='1/1/2022', periods=rows, freq='1s')),\n",
    "        'voltage': numpy.random.rand(rows), #float\n",
    "        'current': numpy.random.rand(rows), #float\n",
    "        'label': numpy.array([get_rand_letter(10) for i in range(rows)]), #string\n",
    "        'pass': numpy.array(rand_bools(rows))} #bool\n",
    "\n",
    "df = pandas.DataFrame(data)\n",
    "df.to_csv('data.csv')"
   ]
  },
  {
   "cell_type": "code",
   "execution_count": null,
   "id": "376e692b-363a-4378-8517-bae180d89422",
   "metadata": {},
   "outputs": [],
   "source": []
  }
 ],
 "metadata": {
  "kernelspec": {
   "display_name": "Python 3 (ipykernel)",
   "language": "python",
   "name": "python3"
  },
  "language_info": {
   "codemirror_mode": {
    "name": "ipython",
    "version": 3
   },
   "file_extension": ".py",
   "mimetype": "text/x-python",
   "name": "python",
   "nbconvert_exporter": "python",
   "pygments_lexer": "ipython3",
   "version": "3.10.4"
  }
 },
 "nbformat": 4,
 "nbformat_minor": 5
}
