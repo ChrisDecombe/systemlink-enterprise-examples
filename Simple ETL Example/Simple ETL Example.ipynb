{
 "cells": [
  {
   "cell_type": "markdown",
   "id": "cbfd6124-28a6-4773-842f-34c11122143a",
   "metadata": {},
   "source": [
    "# Simple ETL Example\n",
    "This example demonstrates a basic Extract, Transform, Load pattern for taking measurement data in various formats and normalizing to SystemLink DataFrames. It utilizes the ***File Service*** to download a specified file, the ***DataFrame Service*** to store the normalized test and measurement data, and the ***Test Monitor Service*** to link the metadata from the test data to the created DataTable in a highly searchable manner."
   ]
  },
  {
   "cell_type": "markdown",
   "id": "0ba6cc14-2f93-4234-a34a-7096e4456d60",
   "metadata": {},
   "source": [
    "### Imports\n",
    "Import Python modules for executing the notebook. The requests and json libraries are used for communicating with the various SystemLink service's enpoints. Pandas is used for building and handling dataframe. Scrapbook is used for running notebooks and recording data for the SystemLink Notebook Execution Service.\n",
    "\n",
    "The SYSTEMLINK_API_KEY environment variable specifies an API key created for the user executinge this notebook, which provides Role Based Access Control to the various SystemLink APIs called by this notebook. The API key will expire after 24 hours.  \n",
    "The SYSTEMLINK_HTTP_URI environment variable gives the base URL to the SystemLink instance executing this notebook."
   ]
  },
  {
   "cell_type": "code",
   "execution_count": null,
   "id": "1d8e1971-e0f7-42cc-a587-0f7589ef5d28",
   "metadata": {},
   "outputs": [],
   "source": [
    "import os\n",
    "import requests\n",
    "import json\n",
    "import pandas\n",
    "import scrapbook\n",
    "\n",
    "api_key = os.getenv(\"SYSTEMLINK_API_KEY\")\n",
    "sl_uri = os.getenv(\"SYSTEMLINK_HTTP_URI\")"
   ]
  },
  {
   "cell_type": "markdown",
   "id": "5b06f068-ca6a-4c07-808e-3f8f87ddd783",
   "metadata": {
    "tags": []
   },
   "source": [
    "### Parameters\n",
    "These are the parameters that the notebook expects to be passed in by SystemLink. For notebooks designed to be triggered by file actions as defined in the Routines Service or by pressing the 'Analyze' button in one of the SystemLink files grids, they must tag the cell with 'parameters' and at minimum specify the following in the cell metadata using the JupyterLab Property Inspector (double gear icon):\n",
    "```    \n",
    "{\n",
    "    \"papermill\": {\n",
    "        \"parameters\": {\n",
    "            \"file_ids\": []\n",
    "        }\n",
    "    },\n",
    "    \"tags\": [\n",
    "        \"parameters\"\n",
    "    ],\n",
    "    \"systemlink\": {\n",
    "        \"interfaces\": [\n",
    "            \"ni-files\"\n",
    "        ],\n",
    "        \"parameters\": [\n",
    "            {\n",
    "                \"display_name\": \"file_ids\",\n",
    "                \"id\": \"file_ids\",\n",
    "                \"type\": \"string[]\"\n",
    "            }\n",
    "        ],\n",
    "        \"version\": 2\n",
    "    }\n",
    "}\n",
    "```\n",
    "\n",
    "For more information on how paramaterization works, review the [papermill documentation](https://papermill.readthedocs.io/en/latest/usage-parameterize.html#how-parameters-work)."
   ]
  },
  {
   "cell_type": "code",
   "execution_count": null,
   "id": "23708a08-626a-48e1-ab39-69c7353f11e4",
   "metadata": {
    "papermill": {
     "parameters": {
      "file_ids": []
     }
    },
    "systemlink": {
     "interfaces": [
      "ni-files"
     ],
     "outputs": [
      {
       "display_name": "Test Result ID",
       "id": "Test Result ID",
       "type": "scalar"
      },
      {
       "display_name": "Data Table ID",
       "id": "Data Table ID",
       "type": "scalar"
      }
     ],
     "parameters": [
      {
       "display_name": "file_ids",
       "id": "file_ids",
       "type": "string[]"
      }
     ],
     "version": 2
    },
    "tags": [
     "parameters"
    ]
   },
   "outputs": [],
   "source": [
    "file_ids = [\"2a57355d-1e1e-4ca3-be79-718fee9372b7\"]"
   ]
  },
  {
   "cell_type": "markdown",
   "id": "0eb56a2c-bfbd-43f0-a1cb-162a2c367262",
   "metadata": {},
   "source": [
    "### Download the file specified by the input parameters and store it locally"
   ]
  },
  {
   "cell_type": "code",
   "execution_count": null,
   "id": "401a4044-5109-4ae3-b85f-43d208a07312",
   "metadata": {},
   "outputs": [],
   "source": [
    "# This notebook is written to operate on 1 file. Throw a read-able exception if the expected parameters are not present.\n",
    "if len(file_ids) != 1:\n",
    "    raise Exception(f\"This example notebook is designed to operate on one file at a time.\")\n",
    "    \n",
    "file_id = file_ids[0]\n",
    "\n",
    "headers = { 'X-NI-API-KEY': api_key }\n",
    "download_resp = requests.get(f'{sl_uri}/nifile/v1/service-groups/Default/files/{file_id}/data', headers=headers)\n",
    "\n",
    "# Expect a 200 code on success, raise an exception if there is an error response\n",
    "download_resp.raise_for_status()\n",
    "\n",
    "# The name of the file is returned in the content-disposition section of the header in the format:\n",
    "#    attachment; filename=\"MeasurementData.csv\"\n",
    "# This returns everything between the first and last \" characters to use as the local filename.\n",
    "filename = download_resp.headers['content-disposition'].split('\"')[1::-1][0]\n",
    "\n",
    "with open(filename, 'wb') as file:\n",
    "    file.write(download_resp.content)"
   ]
  },
  {
   "cell_type": "markdown",
   "id": "146d6a86",
   "metadata": {},
   "source": [
    "### Select the Workspace to create the test result and data table\n",
    "SystemLink stores all artifacts and data in Workspaces. These Workspaces provide a key component of our role-based access control mechanism. Each user may have one or more Roles in a given Workspace that grant them various privileges for SystemLink's services. For example, the ability to create a new test result.\n",
    "\n",
    "Here you should ensure you select a workspace that you have sufficient privileges to create and update both test results and datatables."
   ]
  },
  {
   "cell_type": "code",
   "execution_count": null,
   "id": "27bec8d9",
   "metadata": {},
   "outputs": [],
   "source": [
    "headers = { 'X-NI-API-KEY': api_key }\n",
    "get_workspaces_resp = requests.get(f'{sl_uri}/niuser/v1/workspaces', headers=headers)\n",
    "\n",
    "# Expect a 200 code on success, raise an exception if there is an error response\n",
    "get_workspaces_resp.raise_for_status()\n",
    "\n",
    "# Print the list of workspaces you may choose to create the test result and datatable in\n",
    "workspaces = get_workspaces_resp.json()[\"workspaces\"]\n",
    "for workspace in workspaces:\n",
    "    if workspace[\"enabled\"]: print(workspace[\"name\"])\n",
    "\n",
    "# Select the desired workspace. As a placeholder, I'm simply selecting the first in the list here\n",
    "workspace = workspaces[0]"
   ]
  },
  {
   "cell_type": "markdown",
   "id": "7b14b433-0448-4f0a-9859-348d224d43e3",
   "metadata": {},
   "source": [
    "### Load the test data in the provided file into pandas for analysis\n",
    "Depending on your data's format, additional processing may need to be done here to extract test metadata from the file. In this example, the specified data format is a simple CSV file with 5 columns of various data types.\n",
    "\n",
    "note: Keep in mind that the images running automated executions are limited to 1 GB of RAM. Loading large files and operating on them in memory is not recommended."
   ]
  },
  {
   "cell_type": "code",
   "execution_count": null,
   "id": "804f0851-fcd4-4af4-a6b3-51018701a0d0",
   "metadata": {},
   "outputs": [],
   "source": [
    "df = pandas.read_csv(filename, sep=',', index_col=0)"
   ]
  },
  {
   "cell_type": "markdown",
   "id": "d43f80ce-12c0-4c8b-bc80-7bae82670290",
   "metadata": {},
   "source": [
    "### Create a new Table that matches the data format of the specified file\n",
    "In this example, we create a new DataTable for each file. You may also use the SystemLink DataFrame Service to query for existing tables if you would like to append multiple files into the same table."
   ]
  },
  {
   "cell_type": "code",
   "execution_count": null,
   "id": "dfd9f3ef-c479-48ce-ac1d-2d837412f601",
   "metadata": {},
   "outputs": [],
   "source": [
    "# Specify the name and datatype for the columns to create in the DataTable\n",
    "columnNames = list(df)\n",
    "columnTypes = ['TIMESTAMP', 'FLOAT32', 'FLOAT32', 'STRING', 'BOOL']\n",
    "\n",
    "# Create column specification (to pass to the DataFrame service route to create a table)\n",
    "# Includes column name, column data type, and column type. The first column is set as the index column.\n",
    "columns = []\n",
    "first_column = True\n",
    "for (columnName, dataType) in zip(columnNames, columnTypes):\n",
    "    columnType = 'INDEX' if first_column else 'NULLABLE'\n",
    "    first_column = False\n",
    "    columns.append({'name': columnName, 'dataType': dataType, 'columnType' : columnType})\n",
    "\n",
    "# Create the table\n",
    "table_info = {'name': filename, 'columns': columns, 'workspace': workspace[\"id\"]}\n",
    "headers = { \"X-NI-API-KEY\": api_key, 'Content-Type': 'application/json' }\n",
    "create_table_resp = requests.post(f'{sl_uri}/nidataframe/v1/tables', headers=headers, json=table_info)\n",
    "\n",
    "# Expect 201 on success, raise an exception if there is an error response\n",
    "create_table_resp.raise_for_status()\n",
    "\n",
    "table_id = create_table_resp.json()[\"id\"]"
   ]
  },
  {
   "cell_type": "markdown",
   "id": "ee898559-3b89-4a44-9c9f-5d5be6285404",
   "metadata": {},
   "source": [
    "### Write information from the pandas dataframe into the SystemLink DataFrame Service\n",
    "Use the Dataframe service to write the data from the measurement file into SystemLink. In this scenario, we are writing the entire file to a table at once. For data sets larger than 256 MB, multiple writes will be required."
   ]
  },
  {
   "cell_type": "code",
   "execution_count": null,
   "id": "896456b3-6cfe-4d1b-b8ce-c0fddcf26b70",
   "metadata": {},
   "outputs": [],
   "source": [
    "# Convert the pandas dataframe to the expected json format\n",
    "frame_dict = df.astype(str).to_json(orient=\"split\", index=False)\n",
    "\n",
    "# Write the data to the table. Since we're writing one file/frame per table, set endofData to true\n",
    "frame_info = f'{{\"frame\": {frame_dict}, \"endOfData\": true}}'\n",
    "headers = {'X-NI-API-KEY': api_key, 'Content-Type': 'application/json'}\n",
    "write_data_resp = requests.post(f'{sl_uri}/nidataframe/v1/tables/{table_id}/data', headers=headers, data=frame_info)\n",
    "\n",
    "# Expect 204 on success, raise an exception if there is an error response\n",
    "write_data_resp.raise_for_status()"
   ]
  },
  {
   "cell_type": "markdown",
   "id": "463d2840-f268-47dc-be2f-d868cc69dc91",
   "metadata": {},
   "source": [
    "### Create new Test Result\n",
    "Use the TestMonitor API to create a new Test Result. In a real application, the result data will likely be provided by metadata in the file."
   ]
  },
  {
   "cell_type": "code",
   "execution_count": null,
   "id": "54a10f65-2dc9-4051-a1e4-e59668070ea7",
   "metadata": {},
   "outputs": [],
   "source": [
    "# Form the JSON request body as per the nitestmonitor/v2 API\n",
    "results_info = {\n",
    "    \"results\": [\n",
    "        {\n",
    "            \"programName\": \"Simple ETL Example\",\n",
    "            \"status\": {\n",
    "                \"statusType\": \"PASSED\",\n",
    "                \"statusName\": \"Passed\"\n",
    "            },\n",
    "            \"partNumber\": \"my-product\",\n",
    "            \"systemId\": \"my-system\",\n",
    "            \"hostName\": \"My-Host\",\n",
    "            \"serialNumber\": \"123-456\",\n",
    "            \"operator\": \"admin\",\n",
    "            \"fileIds\": [file_id],\n",
    "            \"dataTableIds\": [table_id],\n",
    "            \"workspace\": workspace[\"id\"]\n",
    "        }\n",
    "    ]\n",
    "}\n",
    "\n",
    "headers = {'X-NI-API-KEY': api_key, 'Content-Type': 'application/json'}\n",
    "create_result_resp = requests.post(f'{sl_uri}/nitestmonitor/v2/results', headers=headers, json=results_info)\n",
    "\n",
    "# Expect 200, 201, or 204 for success or partial success, raise an exception if there is an error response\n",
    "create_result_resp.raise_for_status()\n",
    "\n",
    "result_id = create_result_resp.json()['results'][0]['id']"
   ]
  },
  {
   "cell_type": "markdown",
   "id": "47842adc-0c0a-456a-8a64-070d266e58e9",
   "metadata": {},
   "source": [
    "### Store the result information so that SystemLink can access it\n",
    "SystemLink uses scrapbook to store result information from each notebook execution to display to the user in the Execution Details slide-out. Here we will display the IDs of the Test Result and DataTable that we created for easy reference later."
   ]
  },
  {
   "cell_type": "code",
   "execution_count": null,
   "id": "9366a14d-a167-4ced-ab3d-f3e487c7a354",
   "metadata": {},
   "outputs": [],
   "source": [
    "result = [\n",
    "    {\n",
    "        'type': 'scalar',\n",
    "        'id': 'Test Result ID',\n",
    "        'value': result_id\n",
    "    },\n",
    "    {\n",
    "        'type': 'scalar',\n",
    "        'id': 'Data Table ID',\n",
    "        'value': table_id\n",
    "    }\n",
    "]\n",
    "\n",
    "scrapbook.glue('result', result)"
   ]
  },
  {
   "cell_type": "markdown",
   "id": "59aa2dab-b270-4b51-9c8f-b149394f42bf",
   "metadata": {},
   "source": [
    "# Next Steps\n",
    "\n",
    "1. Publish this notebook to SystemLink by right-clicking it in the JupyterLab File Browser\n",
    "1. Manually execute this notebook against a file in the SystemLink Files application\n",
    "1. Configure a Routine to execute this notebook against any new files that get uploaded to systemlink\n",
    "1. Use Grafana Dashboards to View and Explore the uploaded data"
   ]
  },
  {
   "cell_type": "code",
   "execution_count": null,
   "id": "7d0600a6-f8ed-449e-b98f-65789cb4ac7c",
   "metadata": {},
   "outputs": [],
   "source": []
  }
 ],
 "metadata": {
  "kernelspec": {
   "display_name": "Python 3 (ipykernel)",
   "language": "python",
   "name": "python3"
  },
  "language_info": {
   "codemirror_mode": {
    "name": "ipython",
    "version": 3
   },
   "file_extension": ".py",
   "mimetype": "text/x-python",
   "name": "python",
   "nbconvert_exporter": "python",
   "pygments_lexer": "ipython3",
   "version": "3.10.4"
  },
  "vscode": {
   "interpreter": {
    "hash": "980539a7fcb036c16888a4227813486cf766f5cd0818b2b5b296320b380e1cd5"
   }
  }
 },
 "nbformat": 4,
 "nbformat_minor": 5
}
