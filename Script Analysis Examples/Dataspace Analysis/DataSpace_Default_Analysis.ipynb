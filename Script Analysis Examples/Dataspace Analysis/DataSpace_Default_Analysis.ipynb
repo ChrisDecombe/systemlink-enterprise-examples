{
 "cells": [
  {
   "cell_type": "markdown",
   "metadata": {},
   "source": [
    "# DataSpace Analysis Example\n",
    "\n",
    "This notebook will analyze the parametric data in a dataspace to calculate statistics."
   ]
  },
  {
   "cell_type": "markdown",
   "metadata": {},
   "source": [
    "### Imports\n",
    "\n",
    "Import Python modules for executing the notebook. The ni_data_space_analyzer is used for performing the analysis. Pandas is used for building and handling dataframe. Scrapbook is used for running notebooks and recording data for the SystemLink Notebook Execution Service."
   ]
  },
  {
   "cell_type": "code",
   "execution_count": 1,
   "metadata": {},
   "outputs": [],
   "source": [
    "from typing import List, Dict, Union\n",
    "\n",
    "import pandas as pd\n",
    "import scrapbook as sb\n",
    "\n",
    "from ni_data_space_analyzer import DataSpaceAnalyzer\n",
    "from ni_data_space_analyzer import DatasetLoader\n",
    "from ni_data_space_analyzer.exception import DataSpaceAnalyzerError"
   ]
  },
  {
   "cell_type": "markdown",
   "metadata": {},
   "source": [
    "### Parameters\n",
    "\n",
    "#### Channels\n",
    "\n",
    "Channels are a collection of input data traces in serialized format. Each\n",
    "channel is an object with the following keys.\n",
    "\n",
    "- `name`: Name of the channel.\n",
    "- `data`: Data of the channel.\n",
    "- `x`: Array of `x-axis` values of a data trace.\n",
    "- `y`: Array of `y-axis` integer values corresponding to `x` of a data trace.\n",
    "- `low_limits`: Array of `low_limit` integer values corresponding to the low\n",
    "  limit value of a data trace.\n",
    "- `high_limits`: Array of `high_limit` integer values corresponding to the high\n",
    "  limit value of a data trace.\n",
    "\n",
    "Example:\n",
    "\n",
    "    ```json\n",
    "    channels = \"\"\"[{\n",
    "        \"name\": \"Input Voltage\",\n",
    "        \"data\":\n",
    "        {\n",
    "            \"x\": [1,1,2,2,3],\n",
    "            \"y\": [6.93,6.9,6.1,6.2,9],\n",
    "            \"high_limits\": [11,11,11,11,11],\n",
    "            \"low_limits\": [1,1,1,1,1]\n",
    "        }\n",
    "    },\n",
    "    {\n",
    "        \"name\": \"Input Current\",\n",
    "        \"data\":\n",
    "        {\n",
    "            \"x\": [1,1,2,2,3],\n",
    "            \"y\": [6.93,6.9,6.1,6.2,9],\n",
    "            \"high_limits\": [11,11,11,11,11],\n",
    "            \"low_limits\": [1,1,1,1,1]\n",
    "        }\n",
    "    }]\"\"\"\n",
    "    ```\n",
    "\n",
    "#### Analysis Options\n",
    "\n",
    "The `analysis_options` is a list of analyses that the Notebook should perform.\n",
    "\n",
    "### Metadata\n",
    "\n",
    "These are the parameters that the notebook expects to be passed in by SystemLink. For notebooks designed to be perform analysis inside a dataspace, must tag the cell with 'parameters' and at minimum specify the following in the cell metadata using the JupyterLab Property Inspector (double gear icon):\n",
    "\n",
    "```json\n",
    "{\n",
    "  \"papermill\": {\n",
    "    \"parameters\": {\n",
    "      \"analysis_options\": [],\n",
    "      \"channels\": \"\"\n",
    "    }\n",
    "  },\n",
    "  \"systemlink\": {\n",
    "    \"interfaces\": [],\n",
    "    \"outputs\": [\n",
    "      {\n",
    "        \"display_name\": \"Min\",\n",
    "        \"id\": \"min\",\n",
    "        \"type\": \"scalar\"\n",
    "      },\n",
    "      {\n",
    "        \"display_name\": \"Max\",\n",
    "        \"id\": \"max\",\n",
    "        \"type\": \"scalar\"\n",
    "      },\n",
    "      {\n",
    "        \"display_name\": \"Mean\",\n",
    "        \"id\": \"mean\",\n",
    "        \"type\": \"scalar\"\n",
    "      },\n",
    "      {\n",
    "        \"display_name\": \"2 STD\",\n",
    "        \"id\": \"2std\",\n",
    "        \"type\": \"scalar\"\n",
    "      },\n",
    "      {\n",
    "        \"display_name\": \"-2 STD\",\n",
    "        \"id\": \"-2std\",\n",
    "        \"type\": \"scalar\"\n",
    "      },\n",
    "      {\n",
    "        \"display_name\": \"Moving Mean\",\n",
    "        \"id\": \"moving_mean\",\n",
    "        \"type\": \"vector\"\n",
    "      },\n",
    "      {\n",
    "        \"display_name\": \"CP\",\n",
    "        \"id\": \"cp\",\n",
    "        \"type\": \"vector\"\n",
    "      },\n",
    "      {\n",
    "        \"display_name\": \"CPK\",\n",
    "        \"id\": \"cpk\",\n",
    "        \"type\": \"vector\"\n",
    "      }\n",
    "    ],\n",
    "    \"parameters\": [\n",
    "      {\n",
    "        \"display_name\": \"Channels\",\n",
    "        \"id\": \"channels\",\n",
    "        \"type\": \"string\"\n",
    "      },\n",
    "      {\n",
    "        \"display_name\": \"Analysis Options\",\n",
    "        \"id\": \"analysis_options\",\n",
    "        \"type\": \"string[]\"\n",
    "      }\n",
    "    ],\n",
    "    \"version\": 2\n",
    "  },\n",
    "  \"tags\": [\"parameters\"]\n",
    "}\n",
    "```\n",
    "\n",
    "For more information on how parameterization works, review the [papermill documentation](https://papermill.readthedocs.io/en/latest/usage-parameterize.html#how-parameters-work).\n"
   ]
  },
  {
   "cell_type": "code",
   "execution_count": 2,
   "metadata": {
    "editable": true,
    "papermill": {
     "parameters": {
      "analysis_options": [],
      "channels": ""
     }
    },
    "slideshow": {
     "slide_type": ""
    },
    "systemlink": {
     "interfaces": [
      "ni-testmanagement"
     ],
     "outputs": [
      {
       "display_name": "Min",
       "id": "min",
       "type": "scalar"
      },
      {
       "display_name": "Max",
       "id": "max",
       "type": "scalar"
      },
      {
       "display_name": "Mean",
       "id": "mean",
       "type": "scalar"
      },
      {
       "display_name": "2 STD",
       "id": "2std",
       "type": "scalar"
      },
      {
       "display_name": "-2 STD",
       "id": "-2std",
       "type": "scalar"
      },
      {
       "display_name": "Moving Mean",
       "id": "moving_mean",
       "type": "vector"
      },
      {
       "display_name": "CP",
       "id": "cp",
       "type": "vector"
      },
      {
       "display_name": "CPK",
       "id": "cpk",
       "type": "vector"
      }
     ],
     "parameters": [
      {
       "display_name": "Channels",
       "id": "channels",
       "type": "string"
      },
      {
       "display_name": "Analysis Options",
       "id": "analysis_options",
       "type": "string[]"
      }
     ],
     "version": 2
    },
    "tags": [
     "parameters"
    ]
   },
   "outputs": [],
   "source": [
    "channels = \"\"\n",
    "analysis_options = []"
   ]
  },
  {
   "cell_type": "markdown",
   "metadata": {},
   "source": [
    "### Supported Input analysis options and their output types"
   ]
  },
  {
   "cell_type": "code",
   "execution_count": 3,
   "metadata": {},
   "outputs": [],
   "source": [
    "supported_analysis = [\n",
    "    {\"id\": \"min\", \"type\": \"scalar\"},\n",
    "    {\"id\": \"max\", \"type\": \"scalar\"},\n",
    "    {\"id\": \"mean\", \"type\": \"scalar\"},\n",
    "    {\"id\": \"2std\", \"type\": \"scalar\"},\n",
    "    {\"id\": \"-2std\", \"type\": \"scalar\"},\n",
    "    {\"id\": \"moving_mean\", \"type\": \"vector\"},\n",
    "    {\"id\": \"cp\", \"type\": \"vector\"},\n",
    "    {\"id\": \"cpk\", \"type\": \"vector\"},\n",
    "]\n",
    "\n",
    "supported_analysis_options = list(map(lambda x: x[\"id\"], supported_analysis))"
   ]
  },
  {
   "cell_type": "markdown",
   "metadata": {},
   "source": [
    "### Utility Functions"
   ]
  },
  {
   "cell_type": "markdown",
   "metadata": {},
   "source": [
    "#### Validating Analysis options"
   ]
  },
  {
   "cell_type": "code",
   "execution_count": 4,
   "metadata": {},
   "outputs": [],
   "source": [
    "def validate_analysis_options(analysis_options) -> None:\n",
    "    analysis_options = list(map(str.strip, analysis_options))\n",
    "\n",
    "    invalid_options = list(set(analysis_options) - set(supported_analysis_options))\n",
    "\n",
    "    if invalid_options:\n",
    "        raise DataSpaceAnalyzerError(\n",
    "            \"The analysis failed because the following options are not supported: {0}.\".format(\n",
    "                \", \".join(invalid_options)\n",
    "            )\n",
    "        )"
   ]
  },
  {
   "cell_type": "markdown",
   "metadata": {},
   "source": [
    "#### Loading channels Data"
   ]
  },
  {
   "cell_type": "code",
   "execution_count": 5,
   "metadata": {},
   "outputs": [],
   "source": [
    "def load_channels() -> List[Dict[str, Union[str, pd.DataFrame]]]:\n",
    "    data = DatasetLoader().load_dataset(channels)\n",
    "    return data"
   ]
  },
  {
   "cell_type": "markdown",
   "metadata": {},
   "source": [
    "#### Analyzing channel data"
   ]
  },
  {
   "cell_type": "code",
   "execution_count": 6,
   "metadata": {},
   "outputs": [],
   "source": [
    "def analyze_channel_data(channel_data: pd.DataFrame) -> pd.DataFrame:\n",
    "    data_space_analyzer = DataSpaceAnalyzer(dataframe=channel_data)\n",
    "\n",
    "    for option in analysis_options:\n",
    "        if option == \"min\":\n",
    "            data_space_analyzer.compute_min()\n",
    "        elif option == \"max\":\n",
    "            data_space_analyzer.compute_max()\n",
    "        elif option == \"mean\":\n",
    "            data_space_analyzer.compute_mean()\n",
    "        elif option == \"2std\":\n",
    "            data_space_analyzer.compute_2std()\n",
    "        elif option == \"-2std\":\n",
    "            data_space_analyzer.compute_negative_2std()\n",
    "        elif option == \"moving_mean\":\n",
    "            data_space_analyzer.compute_moving_mean()\n",
    "        elif option == \"cp\":\n",
    "            data_space_analyzer.compute_cp()\n",
    "        elif option == \"cpk\":\n",
    "            data_space_analyzer.compute_cpk()\n",
    "\n",
    "    return data_space_analyzer.generate_analysis_output(\n",
    "        analysis_options=analysis_options, supported_analysis=supported_analysis\n",
    "    )"
   ]
  },
  {
   "cell_type": "markdown",
   "metadata": {},
   "source": [
    "### Validating and Analyzing Channels"
   ]
  },
  {
   "cell_type": "code",
   "execution_count": 7,
   "metadata": {},
   "outputs": [],
   "source": [
    "analysis_options = list(map(str.lower, analysis_options))\n",
    "final_result = []\n",
    "\n",
    "try:\n",
    "    validate_analysis_options(analysis_options)\n",
    "    channels = load_channels()\n",
    "\n",
    "    for channel in channels:\n",
    "        channel_name = channel[\"name\"]\n",
    "        channel_data = channel[\"data\"]\n",
    "\n",
    "        analysis_results = analyze_channel_data(channel_data)\n",
    "        \n",
    "        final_result.append({\"plot_label\": channel_name, \"data\": analysis_results})\n",
    "\n",
    "except DataSpaceAnalyzerError as e:\n",
    "    raise Exception(e) from None"
   ]
  },
  {
   "cell_type": "markdown",
   "metadata": {},
   "source": [
    "### Store the result information so that SystemLink can access it\n",
    "\n",
    "SystemLink uses scrapbook to store result information from each notebook execution to display to the user in the Execution Details slide-out.\n",
    "   "
   ]
  },
  {
   "cell_type": "code",
   "execution_count": null,
   "metadata": {},
   "outputs": [],
   "source": [
    "sb.glue(\"result\", final_result)"
   ]
  },
  {
   "cell_type": "markdown",
   "metadata": {},
   "source": [
    "# Next Steps\n",
    "\n",
    "1. Publish this notebook to SystemLink by right-clicking it in the JupyterLab File Browser with the interface as DataSpace Analysis.\n",
    "1. Manually Analyze the parametric data inside the dataspace by clicking analyze button.\n",
    "   "
   ]
  }
 ],
 "metadata": {
  "kernelspec": {
   "display_name": "Python 3 (ipykernel)",
   "language": "python",
   "name": "python3"
  },
  "language_info": {
   "codemirror_mode": {
    "name": "ipython",
    "version": 3
   },
   "file_extension": ".py",
   "mimetype": "text/x-python",
   "name": "python",
   "nbconvert_exporter": "python",
   "pygments_lexer": "ipython3",
   "version": "3.9.11"
  }
 },
 "nbformat": 4,
 "nbformat_minor": 4
}
