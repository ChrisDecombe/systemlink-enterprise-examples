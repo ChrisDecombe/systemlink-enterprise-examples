{
 "cells": [
  {
   "cell_type": "code",
   "execution_count": 1,
   "metadata": {},
   "outputs": [],
   "source": [
    "from typing import List, Dict, Union\n",
    "\n",
    "import pandas as pd\n",
    "import scrapbook as sb\n",
    "\n",
    "from ni_data_space_analyzer import DataSpaceAnalyzer\n",
    "from ni_data_space_analyzer import DatasetLoader\n",
    "from ni_data_space_analyzer.exception import DataSpaceAnalyzerError"
   ]
  },
  {
   "cell_type": "markdown",
   "metadata": {},
   "source": [
    "Notebook Input Parameters\n"
   ]
  },
  {
   "cell_type": "code",
   "execution_count": 2,
   "metadata": {
    "editable": true,
    "papermill": {
     "parameters": {
      "analysis_options": [],
      "channels": ""
     }
    },
    "slideshow": {
     "slide_type": ""
    },
    "systemlink": {
     "interfaces": [
      "ni-testmanagement"
     ],
     "outputs": [
      {
       "display_name": "Min",
       "id": "min",
       "type": "scalar"
      },
      {
       "display_name": "Max",
       "id": "max",
       "type": "scalar"
      },
      {
       "display_name": "Mean",
       "id": "mean",
       "type": "scalar"
      },
      {
       "display_name": "2 STD",
       "id": "2std",
       "type": "scalar"
      },
      {
       "display_name": "-2 STD",
       "id": "-2std",
       "type": "scalar"
      },
      {
       "display_name": "Moving Mean",
       "id": "moving_mean",
       "type": "vector"
      },
      {
       "display_name": "CP",
       "id": "cp",
       "type": "vector"
      },
      {
       "display_name": "CPK",
       "id": "cpk",
       "type": "vector"
      }
     ],
     "parameters": [
      {
       "display_name": "Channels",
       "id": "channels",
       "type": "string"
      },
      {
       "display_name": "Analysis Options",
       "id": "analysis_options",
       "type": "string[]"
      }
     ],
     "version": 2
    },
    "tags": [
     "parameters"
    ]
   },
   "outputs": [],
   "source": [
    "channels = \"\"\n",
    "analysis_options = []"
   ]
  },
  {
   "cell_type": "markdown",
   "metadata": {},
   "source": [
    "Supported Input analysis options and their output types"
   ]
  },
  {
   "cell_type": "code",
   "execution_count": 3,
   "metadata": {},
   "outputs": [],
   "source": [
    "supported_analysis = [\n",
    "    {\"id\": \"min\", \"type\": \"scalar\"},\n",
    "    {\"id\": \"max\", \"type\": \"scalar\"},\n",
    "    {\"id\": \"mean\", \"type\": \"scalar\"},\n",
    "    {\"id\": \"2std\", \"type\": \"scalar\"},\n",
    "    {\"id\": \"-2std\", \"type\": \"scalar\"},\n",
    "    {\"id\": \"moving_mean\", \"type\": \"vector\"},\n",
    "    {\"id\": \"cp\", \"type\": \"vector\"},\n",
    "    {\"id\": \"cpk\", \"type\": \"vector\"},\n",
    "]\n",
    "\n",
    "supported_analysis_options = list(map(lambda x: x[\"id\"], supported_analysis))"
   ]
  },
  {
   "cell_type": "code",
   "execution_count": 4,
   "metadata": {},
   "outputs": [],
   "source": [
    "def validate_analysis_options(analysis_options) -> None:\n",
    "    analysis_options = list(map(str.strip, analysis_options))\n",
    "\n",
    "    invalid_options = list(set(analysis_options) - set(supported_analysis_options))\n",
    "\n",
    "    if invalid_options:\n",
    "        raise DataSpaceAnalyzerError(\n",
    "            \"The analysis failed because the following options are not supported: {0}.\".format(\n",
    "                \", \".join(invalid_options)\n",
    "            )\n",
    "        )"
   ]
  },
  {
   "cell_type": "code",
   "execution_count": 5,
   "metadata": {},
   "outputs": [],
   "source": [
    "def load_channels() -> List[Dict[str, Union[str, pd.DataFrame]]]:\n",
    "    data = DatasetLoader().load_dataset(channels)\n",
    "    return data"
   ]
  },
  {
   "cell_type": "code",
   "execution_count": 6,
   "metadata": {},
   "outputs": [],
   "source": [
    "def analyze_channel_data(channel_data: pd.DataFrame) -> pd.DataFrame:\n",
    "    data_space_analyzer = DataSpaceAnalyzer(dataframe=channel_data)\n",
    "\n",
    "    for option in analysis_options:\n",
    "        if option == \"min\":\n",
    "            data_space_analyzer.compute_min()\n",
    "        elif option == \"max\":\n",
    "            data_space_analyzer.compute_max()\n",
    "        elif option == \"mean\":\n",
    "            data_space_analyzer.compute_mean()\n",
    "        elif option == \"2std\":\n",
    "            data_space_analyzer.compute_2std()\n",
    "        elif option == \"-2std\":\n",
    "            data_space_analyzer.compute_negative_2std()\n",
    "        elif option == \"moving_mean\":\n",
    "            data_space_analyzer.compute_moving_mean()\n",
    "        elif option == \"cp\":\n",
    "            data_space_analyzer.compute_cp()\n",
    "        elif option == \"cpk\":\n",
    "            data_space_analyzer.compute_cpk()\n",
    "\n",
    "    return data_space_analyzer.generate_analysis_output(\n",
    "        analysis_options=analysis_options, supported_analysis=supported_analysis\n",
    "    )"
   ]
  },
  {
   "cell_type": "code",
   "execution_count": 7,
   "metadata": {},
   "outputs": [],
   "source": [
    "analysis_options = list(map(str.lower, analysis_options))\n",
    "final_result = []\n",
    "\n",
    "try:\n",
    "    validate_analysis_options(analysis_options)\n",
    "    channels = load_channels()\n",
    "\n",
    "    for channel in channels:\n",
    "        channel_name = channel[\"name\"]\n",
    "        channel_data = channel[\"data\"]\n",
    "\n",
    "        analysis_results = analyze_channel_data(channel_data)\n",
    "        \n",
    "        final_result.append({\"plot_label\": channel_name, \"data\": analysis_results})\n",
    "\n",
    "except DataSpaceAnalyzerError as e:\n",
    "    raise Exception(e) from None\n",
    "        \n",
    "sb.glue(\"result\", final_result)"
   ]
  }
 ],
 "metadata": {
  "kernelspec": {
   "display_name": "Python 3 (ipykernel)",
   "language": "python",
   "name": "python3"
  },
  "language_info": {
   "codemirror_mode": {
    "name": "ipython",
    "version": 3
   },
   "file_extension": ".py",
   "mimetype": "text/x-python",
   "name": "python",
   "nbconvert_exporter": "python",
   "pygments_lexer": "ipython3",
   "version": "3.9.11"
  }
 },
 "nbformat": 4,
 "nbformat_minor": 4
}
