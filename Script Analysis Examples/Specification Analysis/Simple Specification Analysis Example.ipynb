{
 "cells": [
  {
   "cell_type": "markdown",
   "metadata": {},
   "source": [
    "# Simple Specification Analysis Example\n",
    "\n",
    "This example demonstrates a simple analysis for various specs inside products. It uses the **Spec Service** to query, analyze and update the specs with the latest properties."
   ]
  },
  {
   "cell_type": "markdown",
   "metadata": {},
   "source": [
    "### Imports\n",
    "\n",
    "Import Python Modules for executing the notebook. The **nisystemlink** library is used for communicating with various SystemLink Enterprise's endpoints. Scrapbook is used for running notebooks and recording data for the SystemLink Notebook Execution Service.\n",
    "\n",
    "The SYSTEMLINK_API_KEY environment variable specifies an API key created for the user executing this notebook, which provides Role Based Access Control to the various SystemLink APIs called by this notebook. The API key will expire after 24 hours.\n",
    "The SYSTEMLINK_HTTP_URI environment variable gives the base URL to the SystemLink instance executing this notebook."
   ]
  },
  {
   "cell_type": "code",
   "execution_count": null,
   "metadata": {},
   "outputs": [],
   "source": [
    "import os\n",
    "import scrapbook as sb\n",
    "\n",
    "from nisystemlink.clients.core import JupyterHttpConfiguration\n",
    "from nisystemlink.clients.spec import SpecClient\n",
    "from nisystemlink.clients.spec.models import QuerySpecificationsRequest, UpdateSpecificationsRequest"
   ]
  },
  {
   "cell_type": "markdown",
   "metadata": {},
   "source": [
    "### Input Parameters\n",
    "\n",
    "These are the parameters that the notebook expects to be passed in by SystemLink. For notebooks designed to be triggered by pressing the 'Analyze' button in SystemLink Specs grid inside product details page, they must tag the cell with 'parameters' and at minimum specify the following in the cell metadata using the JupyterLab Property Inspector (double gear icon):\n",
    "\n",
    "```json\n",
    "{\n",
    "  \"papermill\": {\n",
    "    \"parameters\": {\n",
    "      \"spec_ids\": [],\n",
    "      \"product_id\": \"\"\n",
    "    }\n",
    "  },\n",
    "  \"systemlink\": {\n",
    "    \"namespaces\": [],\n",
    "    \"parameters\": [\n",
    "      {\n",
    "        \"display_name\": \"spec_ids\",\n",
    "        \"id\": \"spec_ids\",\n",
    "        \"type\": \"string[]\"\n",
    "      },\n",
    "      {\n",
    "        \"display_name\": \"product_id\",\n",
    "        \"id\": \"product_id\",\n",
    "        \"type\": \"string\"\n",
    "      }\n",
    "    ],\n",
    "    \"version\": 2\n",
    "  },\n",
    "  \"tags\": [\"parameters\"]\n",
    "}\n",
    "```\n",
    "\n",
    "For more information on how parameterization works, review the [papermill documentation](https://papermill.readthedocs.io/en/latest/usage-parameterize.html#how-parameters-work).\"\n"
   ]
  },
  {
   "cell_type": "code",
   "execution_count": null,
   "metadata": {},
   "outputs": [],
   "source": [
    "spec_ids = []\n",
    "product_id = \"\""
   ]
  },
  {
   "cell_type": "markdown",
   "metadata": {},
   "source": [
    "### Constants"
   ]
  },
  {
   "cell_type": "code",
   "execution_count": null,
   "metadata": {},
   "outputs": [],
   "source": [
    "spec_client = SpecClient(JupyterHttpConfiguration())"
   ]
  },
  {
   "cell_type": "code",
   "execution_count": null,
   "metadata": {},
   "outputs": [],
   "source": [
    "def __generate_spec_ids_filter():\n",
    "    filter = ''\n",
    "    for index, spec_id in enumerate(spec_ids):\n",
    "        filter += f'specId == \\\"{spec_id}\\\"'\n",
    "        if index < len(spec_ids) - 1:\n",
    "            filter += \" || \"\n",
    "    return filter   \n",
    "\n",
    "def __batch_query_request(query_specs_request):\n",
    "    data = []\n",
    "\n",
    "    response = spec_client.query_specs(query_specs_request)\n",
    "    # response = create_post_request(url, body)\n",
    "    if response is not None and response.specs is not None:\n",
    "        data.extend(response.specs)\n",
    "    while response.continuation_token:\n",
    "        query_specs_request.continuation_token = response.continuation_token\n",
    "        response = spec_client.query_specs(query_specs_request)\n",
    "        if response is not None and response.specs is not None:\n",
    "            data.extend(response.specs)\n",
    "\n",
    "    return data\n",
    "\n",
    "def query_parametric_specs(product_id):\n",
    "    spec_ids_filter = __generate_spec_ids_filter()\n",
    "    query_specs_request = QuerySpecificationsRequest(\n",
    "        product_ids=[product_id],\n",
    "        filter=f\"(({spec_ids_filter}) && (type == \\\"PARAMETRIC\\\"))\",\n",
    "        take=1000\n",
    "    )\n",
    "    specs = __batch_query_request(query_specs_request)\n",
    "\n",
    "    return specs"
   ]
  },
  {
   "cell_type": "code",
   "execution_count": null,
   "metadata": {},
   "outputs": [],
   "source": [
    "def analyze_spec(spec):\n",
    "    # TODO: Implement Spec Analysis logic here\n",
    "\n",
    "    spec.properties[\"Spec Analyzed\"] = \"True\"\n",
    "\n",
    "def update_specs(specs):\n",
    "    update_specs_request = UpdateSpecificationsRequest(specs=specs)\n",
    "    return spec_client.update_specs(update_specs_request)\n",
    "\n",
    "def analyze_specs(specs):\n",
    "    for spec in specs:\n",
    "        analyze_spec(spec)"
   ]
  },
  {
   "cell_type": "markdown",
   "metadata": {},
   "source": [
    "### Fetching, Analyzing and Updating Specs"
   ]
  },
  {
   "cell_type": "code",
   "execution_count": null,
   "metadata": {},
   "outputs": [],
   "source": [
    "parametric_specs = query_parametric_specs(product_id)\n",
    "\n",
    "analyze_specs(parametric_specs)\n",
    "update_specs_response = update_specs(parametric_specs)"
   ]
  },
  {
   "cell_type": "markdown",
   "metadata": {},
   "source": [
    "### Store the result information so that SystemLink can access it\n",
    "\n",
    "SystemLink uses scrapbook to store result information from each notebook execution to display to the user in the Execution Details slide-out. Here we will displaying the details of updated specs.\""
   ]
  },
  {
   "cell_type": "code",
   "execution_count": null,
   "metadata": {},
   "outputs": [],
   "source": [
    "if  update_specs_response.updated_specs:\n",
    "    sb.glue(\"Updated Specs: \", update_specs_response.updated_specs)\n",
    "if  update_specs_response.failed_specs:\n",
    "    sb.glue(\"Failed Specs: \", update_specs_response.failed_specs)"
   ]
  },
  {
   "cell_type": "markdown",
   "metadata": {},
   "source": [
    "# Next Steps\n",
    "\n",
    "1. Publish this notebook to SystemLink by right-clicking it in the JupyterLab File Browser with the interface as Specification Analysis.\n",
    "1. Manually execute this notebook against the specs inside specs grid in product details page.\n",
    "1. Go to spec details page to view the updated properties of the specs."
   ]
  }
 ],
 "metadata": {
  "kernelspec": {
   "display_name": "Python 3",
   "language": "python",
   "name": "python3"
  },
  "language_info": {
   "codemirror_mode": {
    "name": "ipython",
    "version": 3
   },
   "file_extension": ".py",
   "mimetype": "text/x-python",
   "name": "python",
   "nbconvert_exporter": "python",
   "pygments_lexer": "ipython3",
   "version": "3.9.11"
  }
 },
 "nbformat": 4,
 "nbformat_minor": 2
}
