{
 "cells": [
  {
   "cell_type": "markdown",
   "metadata": {},
   "source": [
    "# Simple Specification Analysis Example\n",
    "\n",
    "This example demonstrates a basic compliance calculations for various specs inside products. It uses the **Spec Service** to query, analyze and update the specs with the latest properties."
   ]
  },
  {
   "cell_type": "markdown",
   "metadata": {},
   "source": [
    "### Imports\n",
    "\n",
    "Import Python Modules for executing the notebook. The requests library is used for communicating with various SystemLink Enterprise's endpoints. Scrapbook is used for running notebooks and recording data for the SystemLink Notebook Execution Service.\n",
    "\n",
    "The SYSTEMLINK_API_KEY environment variable specifies an API key created for the user executing this notebook, which provides Role Based Access Control to the various SystemLink APIs called by this notebook. The API key will expire after 24 hours.\n",
    "The SYSTEMLINK_HTTP_URI environment variable gives the base URL to the SystemLink instance executing this notebook."
   ]
  },
  {
   "cell_type": "code",
   "execution_count": 9,
   "metadata": {},
   "outputs": [],
   "source": [
    "import os\n",
    "import scrapbook as sb\n",
    "\n",
    "import requests\n",
    "from requests.packages.urllib3.exceptions import InsecureRequestWarning\n",
    "\n",
    "requests.packages.urllib3.disable_warnings(InsecureRequestWarning)\n",
    "\n",
    "api_key = os.getenv(\"SYSTEMLINK_API_KEY\")\n",
    "systemlink_uri = os.getenv(\"SYSTEMLINK_HTTP_URI\")"
   ]
  },
  {
   "cell_type": "markdown",
   "metadata": {},
   "source": [
    "### Input Parameters\n",
    "\n",
    "These are the parameters that the notebook expects to be passed in by SystemLink. For notebooks designed to be triggered by pressing the 'Analyze' button in SystemLink Specs grid inside product details page, they must tag the cell with 'parameters' and at minimum specify the following in the cell metadata using the JupyterLab Property Inspector (double gear icon):\n",
    "\n",
    "```json\n",
    "{\n",
    "  \"papermill\": {\n",
    "    \"parameters\": {\n",
    "      \"spec_ids\": [],\n",
    "      \"product_id\": \"\"\n",
    "    }\n",
    "  },\n",
    "  \"systemlink\": {\n",
    "    \"namespaces\": [],\n",
    "    \"parameters\": [\n",
    "      {\n",
    "        \"display_name\": \"spec_ids\",\n",
    "        \"id\": \"spec_ids\",\n",
    "        \"type\": \"string[]\"\n",
    "      },\n",
    "      {\n",
    "        \"display_name\": \"product_id\",\n",
    "        \"id\": \"product_id\",\n",
    "        \"type\": \"string\"\n",
    "      }\n",
    "    ],\n",
    "    \"version\": 2\n",
    "  },\n",
    "  \"tags\": [\"parameters\"]\n",
    "}\n",
    "```\n",
    "\n",
    "For more information on how parameterization works, review the [papermill documentation](https://papermill.readthedocs.io/en/latest/usage-parameterize.html#how-parameters-work).\"\n"
   ]
  },
  {
   "cell_type": "code",
   "execution_count": 10,
   "metadata": {},
   "outputs": [],
   "source": [
    "spec_ids = [\"1\", \"2\", \"3\"]\n",
    "product_id = \"be108191-8b59-4c64-a8e0-8b5e02eff4a5\""
   ]
  },
  {
   "cell_type": "markdown",
   "metadata": {},
   "source": [
    "### Constants"
   ]
  },
  {
   "cell_type": "code",
   "execution_count": 11,
   "metadata": {},
   "outputs": [],
   "source": [
    "class ApiUrls:\n",
    "    QUERY_SPECS_URL = f\"{systemlink_uri}/nispec/v1/query-specs\"\n",
    "    UPDATE_SPECS_URL = f\"{systemlink_uri}/nispec/v1/update-specs\""
   ]
  },
  {
   "cell_type": "code",
   "execution_count": 12,
   "metadata": {},
   "outputs": [],
   "source": [
    "def create_post_request(url, body, headers = None):\n",
    "    if not headers:\n",
    "        headers = {}\n",
    "    default_headers = {\n",
    "        \"accept\": \"application/json\",\n",
    "        \"Content-Type\": \"application/json\",\n",
    "        \"x-ni-api-key\": api_key,\n",
    "    }\n",
    "    headers = {**default_headers, **headers}\n",
    "\n",
    "    response = requests.post(\n",
    "        url,\n",
    "        json=body,\n",
    "        headers=headers,\n",
    "    )\n",
    "    response.raise_for_status()\n",
    "    return response.json()"
   ]
  },
  {
   "cell_type": "code",
   "execution_count": 13,
   "metadata": {},
   "outputs": [],
   "source": [
    "def __generate_spec_ids_filter():\n",
    "    filter = ''\n",
    "    for index, spec_id in enumerate(spec_ids):\n",
    "        filter += f'specId == \\\"{spec_id}\\\"'\n",
    "        if index < len(spec_ids) - 1:\n",
    "            filter += \" || \"\n",
    "    return filter   \n",
    "\n",
    "def __batch_query_request(url, body, response_key):\n",
    "    data = []\n",
    "\n",
    "    response = create_post_request(url, body)\n",
    "    if response is not None and response[response_key] is not None:\n",
    "        data.extend(response[response_key])\n",
    "    while response[\"continuationToken\"]:\n",
    "        body[\"continuationToken\"] = response[\"continuationToken\"]\n",
    "        response = create_post_request(url, body)\n",
    "        if response is not None and response[response_key] is not None:\n",
    "            data.extend(response[response_key])\n",
    "\n",
    "    return data\n",
    "\n",
    "def query_parametric_specs(product_id):\n",
    "    spec_ids_filter = __generate_spec_ids_filter()\n",
    "    body = {\n",
    "        \"productIds\": [product_id],\n",
    "        \"filter\": f\"(({spec_ids_filter}) && (type == \\\"PARAMETRIC\\\"))\",\n",
    "        \"take\": 1000\n",
    "    }\n",
    "    specs = __batch_query_request(ApiUrls.QUERY_SPECS_URL, body, \"specs\")\n",
    "\n",
    "    return specs"
   ]
  },
  {
   "cell_type": "code",
   "execution_count": 14,
   "metadata": {},
   "outputs": [],
   "source": [
    "def analyze_spec(spec):\n",
    "    # TODO: Implement Spec Analysis logic here\n",
    "\n",
    "    spec[\"properties\"][\"Spec Analyzed\"] = \"True\"\n",
    "\n",
    "def update_specs(specs):\n",
    "    body = {\n",
    "        \"specs\": specs\n",
    "    }\n",
    "    return create_post_request(ApiUrls.UPDATE_SPECS_URL, body)\n",
    "\n",
    "def analyze_specs(specs):\n",
    "    for spec in specs:\n",
    "        analyze_spec(spec)"
   ]
  },
  {
   "cell_type": "markdown",
   "metadata": {},
   "source": [
    "### Fetching, Analyzing and Updating Specs"
   ]
  },
  {
   "cell_type": "code",
   "execution_count": 15,
   "metadata": {},
   "outputs": [],
   "source": [
    "parametric_specs = query_parametric_specs(product_id)\n",
    "\n",
    "analyze_specs(parametric_specs)\n",
    "update_specs_response = update_specs(parametric_specs)"
   ]
  },
  {
   "cell_type": "markdown",
   "metadata": {},
   "source": [
    "### Store the result information so that SystemLink can access it\n",
    "\n",
    "SystemLink uses scrapbook to store result information from each notebook execution to display to the user in the Execution Details slide-out. Here we will displaying the details of updated specs.\""
   ]
  },
  {
   "cell_type": "code",
   "execution_count": 16,
   "metadata": {},
   "outputs": [
    {
     "data": {
      "application/scrapbook.scrap.json+json": {
       "data": [
        {
         "id": "6641a94ab547780d98027918",
         "productId": "be108191-8b59-4c64-a8e0-8b5e02eff4a5",
         "specId": "1",
         "updatedAt": "2024-05-13T06:36:57.945Z",
         "updatedBy": "ab1edfe5-7cd0-4189-b687-cbbc3c6a4070",
         "version": 13,
         "workspace": "846e294a-a007-47ac-9fc2-fac07eab240e"
        },
        {
         "id": "6641a94ab547780d98027919",
         "productId": "be108191-8b59-4c64-a8e0-8b5e02eff4a5",
         "specId": "2",
         "updatedAt": "2024-05-13T06:36:57.948Z",
         "updatedBy": "ab1edfe5-7cd0-4189-b687-cbbc3c6a4070",
         "version": 13,
         "workspace": "846e294a-a007-47ac-9fc2-fac07eab240e"
        },
        {
         "id": "6641a94ab547780d9802791a",
         "productId": "be108191-8b59-4c64-a8e0-8b5e02eff4a5",
         "specId": "3",
         "updatedAt": "2024-05-13T06:36:57.948Z",
         "updatedBy": "ab1edfe5-7cd0-4189-b687-cbbc3c6a4070",
         "version": 13,
         "workspace": "846e294a-a007-47ac-9fc2-fac07eab240e"
        }
       ],
       "encoder": "json",
       "name": "Updated Specs: ",
       "version": 1
      }
     },
     "metadata": {
      "scrapbook": {
       "data": true,
       "display": false,
       "name": "Updated Specs: "
      }
     },
     "output_type": "display_data"
    }
   ],
   "source": [
    "if \"updatedSpecs\" in update_specs_response:\n",
    "    sb.glue(\"Updated Specs: \", update_specs_response[\"updatedSpecs\"])\n",
    "if \"failedSpecs\" in update_specs_response:\n",
    "    sb.glue(\"Failed Specs: \", update_specs_response[\"failedSpecs\"])"
   ]
  },
  {
   "cell_type": "markdown",
   "metadata": {},
   "source": [
    "# Next Steps\n",
    "\n",
    "1. Publish this notebook to SystemLink by right-clicking it in the JupyterLab File Browser with the interface as Specification Analysis.\n",
    "1. Manually execute this notebook against the specs inside specs grid in product details page.\n",
    "1. Go to spec details page to view the updated properties of the specs."
   ]
  }
 ],
 "metadata": {
  "kernelspec": {
   "display_name": "Python 3",
   "language": "python",
   "name": "python3"
  },
  "language_info": {
   "codemirror_mode": {
    "name": "ipython",
    "version": 3
   },
   "file_extension": ".py",
   "mimetype": "text/x-python",
   "name": "python",
   "nbconvert_exporter": "python",
   "pygments_lexer": "ipython3",
   "version": "3.9.11"
  }
 },
 "nbformat": 4,
 "nbformat_minor": 2
}
